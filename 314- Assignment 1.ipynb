{
 "cells": [
  {
   "cell_type": "markdown",
   "id": "b8e1ddc5",
   "metadata": {},
   "source": [
    "## Amit Anand\n",
    "## Batch - B4\n",
    "## Roll no. 314"
   ]
  },
  {
   "cell_type": "code",
   "execution_count": 1,
   "id": "5d738236",
   "metadata": {},
   "outputs": [],
   "source": [
    "import numpy as np\n"
   ]
  },
  {
   "cell_type": "markdown",
   "id": "5f927df3",
   "metadata": {},
   "source": [
    "### Questions on Numpy"
   ]
  },
  {
   "cell_type": "markdown",
   "id": "5712e4b1",
   "metadata": {},
   "source": [
    "1. Combining a one and a two-dimensional NumPy Array"
   ]
  },
  {
   "cell_type": "code",
   "execution_count": 1,
   "id": "68658ab0",
   "metadata": {},
   "outputs": [
    {
     "name": "stdout",
     "output_type": "stream",
     "text": [
      "One dimensional array:\n",
      "[0 1 2 3 4]\n",
      "\n",
      "Two dimensional array:\n",
      "[[0 1 2 3 4]\n",
      " [5 6 7 8 9]]\n",
      "0:0\n",
      "1:1\n",
      "2:2\n",
      "3:3\n",
      "4:4\n",
      "0:5\n",
      "1:6\n",
      "2:7\n",
      "3:8\n",
      "4:9\n"
     ]
    }
   ],
   "source": [
    "import numpy as np\n",
    "num_1d = np.arange(5)\n",
    "print(\"One dimensional array:\")\n",
    "print(num_1d)\n",
    "num_2d = np.arange(10).reshape(2,5)\n",
    "print(\"\\nTwo dimensional array:\")\n",
    "print(num_2d)\n",
    "for a, b in np.nditer([num_1d, num_2d]):\n",
    "\tprint(\"%d:%d\" % (a, b),)"
   ]
  },
  {
   "cell_type": "markdown",
   "id": "f772eaf3",
   "metadata": {},
   "source": [
    "2.Python | Numpy matrix.sum()"
   ]
  },
  {
   "cell_type": "code",
   "execution_count": 10,
   "id": "ac2cd58d",
   "metadata": {},
   "outputs": [
    {
     "name": "stdout",
     "output_type": "stream",
     "text": [
      "[[ 4  1]\n",
      " [12  3]]\n"
     ]
    }
   ],
   "source": [
    "import numpy as np\n",
    "dmc = np.matrix('[4, 1; 12, 3]')\n",
    "amit = dmc.sum()\n",
    "print(dmc)\n"
   ]
  },
  {
   "cell_type": "markdown",
   "id": "d1c830f1",
   "metadata": {},
   "source": [
    "3. Replace NumPy array elements that doesn’t satisfy the given condition"
   ]
  },
  {
   "cell_type": "code",
   "execution_count": 4,
   "id": "a81746be",
   "metadata": {},
   "outputs": [
    {
     "name": "stdout",
     "output_type": "stream",
     "text": [
      "Given array:\n",
      "[75.42436315 42.48558583 60.32924763]\n",
      "\n",
      "Replace all elements of array which are greater than 50. to 15.50\n",
      "New array :\n",
      "\n",
      "[15.5        42.48558583 15.5       ]\n"
     ]
    }
   ],
   "source": [
    "import numpy as np\n",
    "n_arr = np.array([75.42436315, 42.48558583, 60.32924763])\n",
    "print(\"Given array:\")\n",
    "print(n_arr)\n",
    "print(\"\\nReplace all elements of array which are greater than 50. to 15.50\")\n",
    "n_arr[n_arr > 50.] = 15.50\n",
    "print(\"New array :\\n\")\n",
    "print(n_arr)"
   ]
  },
  {
   "cell_type": "markdown",
   "id": "52dd5fa6",
   "metadata": {},
   "source": [
    "4. Find a matrix or vector norm using NumPy"
   ]
  },
  {
   "cell_type": "code",
   "execution_count": 5,
   "id": "1d0bf38d",
   "metadata": {},
   "outputs": [
    {
     "name": "stdout",
     "output_type": "stream",
     "text": [
      "Vector norm:\n",
      "16.881943016134134\n"
     ]
    }
   ],
   "source": [
    "import library\n",
    "import numpy as np\n",
    "vec = np.arange(10)\n",
    "vec_norm = np.linalg.norm(vec)\n",
    "print(\"Vector norm:\")\n",
    "print(vec_norm)\n"
   ]
  },
  {
   "cell_type": "markdown",
   "id": "7ed58ed3",
   "metadata": {},
   "source": [
    "5. Finding the k smallest values of a NumPy array"
   ]
  },
  {
   "cell_type": "code",
   "execution_count": 6,
   "id": "1f5c94a2",
   "metadata": {},
   "outputs": [
    {
     "name": "stdout",
     "output_type": "stream",
     "text": [
      "The Original Array Content\n",
      "[23 12  1  3  4  5  6]\n",
      "4 smallest elements of the array\n",
      "[1 3 4 5]\n"
     ]
    }
   ],
   "source": [
    "import numpy as np\n",
    "arr = np.array([23, 12, 1, 3, 4, 5, 6])\n",
    "print(\"The Original Array Content\")\n",
    "print(arr)\n",
    "k = 4\n",
    "arr1 = np.sort(arr)\n",
    "print(k, \"smallest elements of the array\")\n",
    "print(arr1[:k])"
   ]
  },
  {
   "cell_type": "markdown",
   "id": "1224d7ae",
   "metadata": {},
   "source": [
    "6. Python | Multiply 2d numpy array corresponding to 1d array"
   ]
  },
  {
   "cell_type": "code",
   "execution_count": 7,
   "id": "669a42d1",
   "metadata": {},
   "outputs": [
    {
     "name": "stdout",
     "output_type": "stream",
     "text": [
      "initial array [[1 2 3]\n",
      " [2 4 5]\n",
      " [1 2 3]]\n",
      "New resulting array:  [[ 0  0  0]\n",
      " [ 4  8 10]\n",
      " [ 3  6  9]]\n"
     ]
    }
   ],
   "source": [
    "import numpy as np\n",
    "ini_array1 = np.array([[1, 2, 3], [2, 4, 5], [1, 2, 3]])\n",
    "ini_array2 = np.array([0, 2, 3])\n",
    "print(\"initial array\", str(ini_array1))\n",
    "result = ini_array1 * ini_array2[:, np.newaxis]\n",
    "print(\"New resulting array: \", result)"
   ]
  },
  {
   "cell_type": "markdown",
   "id": "4957d015",
   "metadata": {},
   "source": [
    "7. Compute the median of the flattened NumPy array"
   ]
  },
  {
   "cell_type": "code",
   "execution_count": 11,
   "id": "82bb8a4c",
   "metadata": {},
   "outputs": [
    {
     "name": "stdout",
     "output_type": "stream",
     "text": [
      "\n",
      "Printing the Original array:\n",
      "[ 2  4  6  8 10 12 14]\n",
      "\n",
      "Median of the array that contains odd no of elements:\n",
      "8.0\n"
     ]
    }
   ],
   "source": [
    "import numpy as np\n",
    "x_odd = np.array([2, 4, 6, 8, 10, 12, 14])\n",
    "print(\"\\nPrinting the Original array:\")\n",
    "print(x_odd)\n",
    "med_odd = np.median(x_odd)\n",
    "print(\"\\nMedian of the array that contains \\\n",
    "odd no of elements:\")\n",
    "print(med_odd)\n"
   ]
  },
  {
   "cell_type": "markdown",
   "id": "5fa11f79",
   "metadata": {},
   "source": [
    "8. How to subtract one polynomial to another using NumPy in Python?"
   ]
  },
  {
   "cell_type": "code",
   "execution_count": 12,
   "id": "cdc065d8",
   "metadata": {},
   "outputs": [
    {
     "name": "stdout",
     "output_type": "stream",
     "text": [
      "[5. 3. 5.]\n"
     ]
    }
   ],
   "source": [
    "import numpy\n",
    "ab = (7,-2,7)\n",
    "cb = (2,-5,2)\n",
    "db = numpy.polynomial.polynomial.polysub(ab,cb)\n",
    "print(db)"
   ]
  },
  {
   "cell_type": "markdown",
   "id": "46619542",
   "metadata": {},
   "source": [
    "9. numpy string operations | swapcase() function"
   ]
  },
  {
   "cell_type": "code",
   "execution_count": 14,
   "id": "0b0185f9",
   "metadata": {},
   "outputs": [
    {
     "name": "stdout",
     "output_type": "stream",
     "text": [
      "input array :  ['P4Q R' '4q Rp' 'Q Rp4' 'rp4q']\n",
      "output swapcasecased array : ['p4q r' '4Q rP' 'q rP4' 'RP4Q']\n"
     ]
    }
   ],
   "source": [
    "import numpy as amit\n",
    "in_arr = amit.array(['P4Q R', '4q Rp', 'Q Rp4', 'rp4q'])\n",
    "print (\"input array : \", in_arr)\n",
    "out_arr = amit.char.swapcase(in_arr)\n",
    "print (\"output swapcasecased array :\", out_arr)\n"
   ]
  },
  {
   "cell_type": "markdown",
   "id": "0e8505a4",
   "metadata": {},
   "source": [
    "10. Convert a NumPy array into a csv file"
   ]
  },
  {
   "cell_type": "code",
   "execution_count": 11,
   "id": "d876702f",
   "metadata": {},
   "outputs": [
    {
     "name": "stdout",
     "output_type": "stream",
     "text": [
      "[[ 1  2  3  4  5]\n",
      " [ 6  7  8  9 10]]\n"
     ]
    }
   ],
   "source": [
    "import pandas as pd\n",
    "import numpy as np\n",
    "arr = np.arange(1,11).reshape(2,5)\n",
    "print(arr)\n",
    "DF = pd.DataFrame(arr)\n",
    "DF.to_csv(\"data1.csv\")"
   ]
  },
  {
   "cell_type": "markdown",
   "id": "25653b49",
   "metadata": {},
   "source": [
    "11. numpy.var() in Python"
   ]
  },
  {
   "cell_type": "code",
   "execution_count": 12,
   "id": "700a0db1",
   "metadata": {},
   "outputs": [
    {
     "name": "stdout",
     "output_type": "stream",
     "text": [
      "arr :  [20, 2, 7, 1, 34]\n",
      "var of arr :  158.16\n",
      "\n",
      "var of arr :  158.16\n",
      "\n",
      "var of arr :  158.16\n"
     ]
    }
   ],
   "source": [
    "import numpy as np\n",
    "arr = [20, 2, 7, 1, 34]\n",
    "print(\"arr : \", arr)\n",
    "print(\"var of arr : \", np.var(arr))\n",
    "print(\"\\nvar of arr : \", np.var(arr, dtype = np.float32))\n",
    "print(\"\\nvar of arr : \", np.var(arr, dtype = np.float64))"
   ]
  },
  {
   "cell_type": "markdown",
   "id": "7a10485f",
   "metadata": {},
   "source": [
    "### Questions on Pandas"
   ]
  },
  {
   "cell_type": "markdown",
   "id": "5bdbe748",
   "metadata": {},
   "source": [
    "1. Make a Pandas DataFrame with two-dimensional list | Python"
   ]
  },
  {
   "cell_type": "code",
   "execution_count": 15,
   "id": "0a2315c2",
   "metadata": {},
   "outputs": [
    {
     "name": "stdout",
     "output_type": "stream",
     "text": [
      "    Tag  number\n",
      "0  Rura      12\n",
      "1    is      85\n",
      "2   for      65\n",
      "3  Ruru      52\n"
     ]
    }
   ],
   "source": [
    "import pandas as pd\t\n",
    "lst = [['Rura', 12], ['is', 85],\n",
    "\t['for', 65], ['Ruru', 52]]\n",
    "df = pd.DataFrame(lst, columns =['Tag', 'number'])\n",
    "print(df )\n"
   ]
  },
  {
   "cell_type": "markdown",
   "id": "f9eee390",
   "metadata": {},
   "source": [
    "2. Replace values in Pandas dataframe using regex"
   ]
  },
  {
   "cell_type": "code",
   "execution_count": 17,
   "id": "f29f9077",
   "metadata": {},
   "outputs": [
    {
     "name": "stdout",
     "output_type": "stream",
     "text": [
      "                City        Event   Cost\n",
      "2021-06     New York        Music  12222\n",
      "2021-08      Parague       Poetry   5089\n",
      "2021-10    New Delhi      Theatre  17000\n",
      "2021-12       Venice       Comedy   6969\n",
      "2022-02  new Orleans  Tech_Summit  10000\n"
     ]
    }
   ],
   "source": [
    "import pandas as pd\n",
    "df = pd.DataFrame({'City':['New York', 'Parague', 'New Delhi', 'Venice', 'new Orleans'],\n",
    "\t\t\t\t\t'Event':['Music', 'Poetry', 'Theatre', 'Comedy', 'Tech_Summit'],\n",
    "\t\t\t\t\t'Cost':[12222, 5089, 17000, 6969, 10000]})\n",
    "index_ = [pd.Period('06-2021'), pd.Period('08-2021'),\n",
    "\t\tpd.Period('10-2021'), pd.Period('12-2021'), pd.Period('02-2022')]\n",
    "df.index = index_\n",
    "print(df)"
   ]
  },
  {
   "cell_type": "markdown",
   "id": "dada2130",
   "metadata": {},
   "source": [
    "3. How to iterate over rows in Pandas Dataframe"
   ]
  },
  {
   "cell_type": "code",
   "execution_count": 18,
   "id": "efea1cea",
   "metadata": {},
   "outputs": [
    {
     "name": "stdout",
     "output_type": "stream",
     "text": [
      "Original DataFrame: \n",
      "      name  age\n",
      "0  Gourav   16\n",
      "1    Amit   20\n",
      "2   Azhar   25\n",
      "\n",
      "Rows iterated using iterrows() : \n",
      "Gourav 16\n",
      "Amit 20\n",
      "Azhar 25\n"
     ]
    }
   ],
   "source": [
    "import pandas as pd\n",
    "input_df = [{'name':'Gourav', 'age':16},\n",
    "\t\t\t{'name':'Amit', 'age':20},\n",
    "\t\t\t{'name':'Azhar', 'age':25}]\n",
    "df = pd.DataFrame(input_df)\n",
    "print('Original DataFrame: \\n', df)\n",
    "print('\\nRows iterated using iterrows() : ')\n",
    "for index, row in df.iterrows():\n",
    "\tprint(row['name'], row['age'])"
   ]
  },
  {
   "cell_type": "markdown",
   "id": "40dedd27",
   "metadata": {},
   "source": [
    "4. Create a pandas column using for loop"
   ]
  },
  {
   "cell_type": "code",
   "execution_count": 19,
   "id": "b86a8c34",
   "metadata": {},
   "outputs": [
    {
     "name": "stdout",
     "output_type": "stream",
     "text": [
      "  Voter_name  Voter_age     Voter\n",
      "0       Amit       20.0       Yes\n",
      "1      Ruchi       28.0       Yes\n",
      "2     Pratus       25.0       Yes\n",
      "3      Binod       52.0       Yes\n",
      "4       Loli       18.0       Yes\n",
      "5       Akki       89.0       Yes\n",
      "6     Noobbi       52.0       Yes\n",
      "7      Sarth        NaN  Not Sure\n"
     ]
    }
   ],
   "source": [
    "import pandas as pd\n",
    "import numpy as np\n",
    "raw_Data = {'Voter_name': ['Amit', 'Ruchi', 'Pratus', 'Binod',\n",
    "\t\t\t\t\t\t'Loli', 'Akki', 'Noobbi', 'Sarth'],\n",
    "\t\t\t'Voter_age': [20, 28, 25, 52, 18, 89, 52, np.NaN]}\n",
    "df = pd.DataFrame(raw_Data, columns = ['Voter_name', 'Voter_age'])\n",
    "eligible = []\n",
    "for age in df['Voter_age']:\t\n",
    "\tif age >= 18:\n",
    "\t\teligible.append('Yes')\n",
    "\telif age < 18:\t\t\t\t\n",
    "\t\teligible.append(\"No\")\n",
    "\telse:\n",
    "\t\teligible.append(\"Not Sure\")\n",
    "df['Voter'] = eligible\n",
    "print(df)"
   ]
  },
  {
   "cell_type": "markdown",
   "id": "f771cfcc",
   "metadata": {},
   "source": [
    "5. Using dictionary to remap values in Pandas DataFrame columns"
   ]
  },
  {
   "cell_type": "code",
   "execution_count": 21,
   "id": "2e1d0ab3",
   "metadata": {},
   "outputs": [
    {
     "name": "stdout",
     "output_type": "stream",
     "text": [
      "        Date    Event  Cost\n",
      "0  10/2/2021    Music   100\n",
      "1  11/4/2021    Sport   500\n",
      "2  12/6/2021  Theatre   150\n",
      "3  13/8/2021   Comedy   200\n"
     ]
    }
   ],
   "source": [
    "import pandas as pd\n",
    "df = pd.DataFrame({'Date':['10/2/2021', '11/4/2021', '12/6/2021', '13/8/2021'],\n",
    "\t\t\t\t\t'Event':['Music', 'Sport', 'Theatre', 'Comedy'],\n",
    "\t\t\t\t\t'Cost':[100, 500, 150, 200]})\n",
    "print(df)"
   ]
  },
  {
   "cell_type": "markdown",
   "id": "8f18623a",
   "metadata": {},
   "source": [
    "6. Python | Creating a Pandas dataframe column based on a given condition"
   ]
  },
  {
   "cell_type": "code",
   "execution_count": 5,
   "id": "22c237d1",
   "metadata": {},
   "outputs": [
    {
     "name": "stdout",
     "output_type": "stream",
     "text": [
      "         Date   Event\n",
      "0   11/8/2011   Music\n",
      "1   11/9/2011  Poetry\n",
      "2  11/10/2011   Music\n",
      "3  11/11/2011   Music\n",
      "4  11/12/2011  Poetry\n"
     ]
    }
   ],
   "source": [
    "import pandas as pd\n",
    "df = pd.DataFrame({'Date' : ['11/8/2011', '11/9/2011', '11/10/2011',\n",
    "\t\t\t\t\t\t\t\t\t\t'11/11/2011', '11/12/2011'],\n",
    "\t\t\t\t'Event' : ['Music', 'Poetry', 'Music', 'Music', 'Poetry']})\n",
    "print(df)"
   ]
  },
  {
   "cell_type": "markdown",
   "id": "6ece5b58",
   "metadata": {},
   "source": [
    "7. Selecting rows in pandas DataFrame based on conditions"
   ]
  },
  {
   "cell_type": "code",
   "execution_count": 22,
   "id": "28f665be",
   "metadata": {},
   "outputs": [
    {
     "name": "stdout",
     "output_type": "stream",
     "text": [
      "Given Dataframe :\n",
      "        Name  Age    Stream  Percentage\n",
      "0     Ankit   21      Math          88\n",
      "1      Amit   19  Commerce          92\n",
      "2    Soumya   20   Science          95\n",
      "3  Khushboo   18      Math          70\n",
      "4     Divya   17      Math          65\n",
      "5    Aditya   21   Science          78\n",
      "\n",
      "Result dataframe :\n",
      "      Name  Age    Stream  Percentage\n",
      "0   Ankit   21      Math          88\n",
      "1    Amit   19  Commerce          92\n",
      "2  Soumya   20   Science          95\n"
     ]
    }
   ],
   "source": [
    "import pandas as pd\n",
    "record = {\n",
    "'Name': ['Ankit', 'Amit', 'Soumya', 'Khushboo', 'Divya', 'Aditya' ],\n",
    "'Age': [21, 19, 20, 18, 17, 21],\n",
    "'Stream': ['Math', 'Commerce', 'Science', 'Math', 'Math', 'Science'],\n",
    "'Percentage': [88, 92, 95, 70, 65, 78] }\n",
    "dataframe = pd.DataFrame(record, columns = ['Name', 'Age', 'Stream', 'Percentage'])\n",
    "print(\"Given Dataframe :\\n\", dataframe)\n",
    "rslt_df = dataframe[dataframe['Percentage'] > 80]\n",
    "print('\\nResult dataframe :\\n', rslt_df)"
   ]
  },
  {
   "cell_type": "markdown",
   "id": "c7651222",
   "metadata": {},
   "source": [
    "8. Create a Pandas Series from array"
   ]
  },
  {
   "cell_type": "code",
   "execution_count": 23,
   "id": "d749dfe2",
   "metadata": {},
   "outputs": [
    {
     "name": "stdout",
     "output_type": "stream",
     "text": [
      "0    a\n",
      "1    e\n",
      "2    i\n",
      "3    o\n",
      "4    u\n",
      "dtype: object\n"
     ]
    }
   ],
   "source": [
    "import pandas as pd\n",
    "import numpy as np\n",
    "data = np.array(['a', 'e', 'i', 'o', 'u'])\n",
    "s = pd.Series(data)\n",
    "print(s)"
   ]
  },
  {
   "cell_type": "markdown",
   "id": "6455b172",
   "metadata": {},
   "source": [
    "9. Create a Pandas DataFrame from List of Dicts "
   ]
  },
  {
   "cell_type": "code",
   "execution_count": 25,
   "id": "05bc69e9",
   "metadata": {},
   "outputs": [
    {
     "data": {
      "text/html": [
       "<div>\n",
       "<style scoped>\n",
       "    .dataframe tbody tr th:only-of-type {\n",
       "        vertical-align: middle;\n",
       "    }\n",
       "\n",
       "    .dataframe tbody tr th {\n",
       "        vertical-align: top;\n",
       "    }\n",
       "\n",
       "    .dataframe thead th {\n",
       "        text-align: right;\n",
       "    }\n",
       "</style>\n",
       "<table border=\"1\" class=\"dataframe\">\n",
       "  <thead>\n",
       "    <tr style=\"text-align: right;\">\n",
       "      <th></th>\n",
       "      <th>Game</th>\n",
       "      <th>Of</th>\n",
       "      <th>Thrones</th>\n",
       "    </tr>\n",
       "  </thead>\n",
       "  <tbody>\n",
       "    <tr>\n",
       "      <th>0</th>\n",
       "      <td>dataframe</td>\n",
       "      <td>using</td>\n",
       "      <td>list</td>\n",
       "    </tr>\n",
       "    <tr>\n",
       "      <th>1</th>\n",
       "      <td>10</td>\n",
       "      <td>20</td>\n",
       "      <td>30</td>\n",
       "    </tr>\n",
       "  </tbody>\n",
       "</table>\n",
       "</div>"
      ],
      "text/plain": [
       "        Game     Of Thrones\n",
       "0  dataframe  using    list\n",
       "1         10     20      30"
      ]
     },
     "execution_count": 25,
     "metadata": {},
     "output_type": "execute_result"
    }
   ],
   "source": [
    "import pandas as pd\n",
    "data = [{'Game': 'dataframe', 'Of': 'using', 'Thrones': 'list'},\n",
    "\t\t{'Game':10, 'Of': 20, 'Thrones': 30}]\t\n",
    "df = pd.DataFrame(data)\n",
    "df\n"
   ]
  },
  {
   "cell_type": "markdown",
   "id": "58876684",
   "metadata": {},
   "source": [
    "10. Pandas | Basic of Time Series Manipulation"
   ]
  },
  {
   "cell_type": "code",
   "execution_count": 26,
   "id": "4b00f878",
   "metadata": {},
   "outputs": [
    {
     "name": "stdout",
     "output_type": "stream",
     "text": [
      "DatetimeIndex(['2021-07-11 00:00:00', '2021-07-11 00:01:00',\n",
      "               '2021-07-11 00:02:00', '2021-07-11 00:03:00',\n",
      "               '2021-07-11 00:04:00', '2021-07-11 00:05:00',\n",
      "               '2021-07-11 00:06:00', '2021-07-11 00:07:00',\n",
      "               '2021-07-11 00:08:00', '2021-07-11 00:09:00',\n",
      "               ...\n",
      "               '2021-07-11 23:51:00', '2021-07-11 23:52:00',\n",
      "               '2021-07-11 23:53:00', '2021-07-11 23:54:00',\n",
      "               '2021-07-11 23:55:00', '2021-07-11 23:56:00',\n",
      "               '2021-07-11 23:57:00', '2021-07-11 23:58:00',\n",
      "               '2021-07-11 23:59:00', '2021-07-12 00:00:00'],\n",
      "              dtype='datetime64[ns]', length=1441, freq='T')\n"
     ]
    }
   ],
   "source": [
    "import pandas as pd\n",
    "from datetime import datetime\n",
    "import numpy as np\n",
    "range_date = pd.date_range(start ='7/11/2021', end ='7/12/2021',\n",
    "\t\t\t\t\t\t\t\t\t\t\t\tfreq ='Min')\n",
    "print(range_date)"
   ]
  },
  {
   "cell_type": "markdown",
   "id": "f6a7817f",
   "metadata": {},
   "source": [
    "### Graphs on Matploitlab"
   ]
  },
  {
   "cell_type": "markdown",
   "id": "ebfc5e0a",
   "metadata": {},
   "source": [
    "1. Bar Plot"
   ]
  },
  {
   "cell_type": "code",
   "execution_count": 28,
   "id": "bc8c3ba1",
   "metadata": {},
   "outputs": [
    {
     "data": {
      "text/plain": [
       "<BarContainer object of 4 artists>"
      ]
     },
     "execution_count": 28,
     "metadata": {},
     "output_type": "execute_result"
    },
    {
     "data": {
      "image/png": "[encoded data removed]",
      "text/plain": [
       "<Figure size 432x288 with 1 Axes>"
      ]
     },
     "metadata": {
      "needs_background": "light"
     },
     "output_type": "display_data"
    }
   ],
   "source": [
    "import numpy as np\n",
    "import matplotlib.pyplot as plt\n",
    "data = [[25, 69, 45, 93],\n",
    "[89, 25, 87, 69],\n",
    "[35, 64, 69, 52]]\n",
    "X = np.arange(4)\n",
    "fig = plt.figure()\n",
    "ax = fig.add_axes([0,0,1,1])\n",
    "ax.bar(X + 0.00, data[0], color = 'g', width = 0.25)\n",
    "ax.bar(X + 0.25, data[1], color = 'r', width = 0.25)\n",
    "ax.bar(X + 0.50, data[2], color = 'b', width = 0.25)"
   ]
  },
  {
   "cell_type": "markdown",
   "id": "5142039f",
   "metadata": {},
   "source": [
    "2. Histogram Plot"
   ]
  },
  {
   "cell_type": "code",
   "execution_count": 32,
   "id": "5b6c7c5a",
   "metadata": {},
   "outputs": [
    {
     "data": {
      "image/png": "[encoded data removed]",
      "text/plain": [
       "<Figure size 432x288 with 1 Axes>"
      ]
     },
     "metadata": {
      "needs_background": "light"
     },
     "output_type": "display_data"
    }
   ],
   "source": [
    "from matplotlib import pyplot as plt\n",
    "import numpy as np\n",
    "fig,ax = plt.subplots(1,1)\n",
    "a = np.array([87,22,43,5,73,56,54,55,20,11,5,51,31,79,27])\n",
    "ax.hist(a, bins = [0,10,20,30,40,50,60,70,80,90,100])\n",
    "ax.set_title(\"histogram of result\")\n",
    "ax.set_xticks([0,10,20,30,40,50,60,70,80,90,100])\n",
    "ax.set_xlabel('Items Sold')\n",
    "ax.set_ylabel('Dealers')\n",
    "plt.show()"
   ]
  },
  {
   "cell_type": "markdown",
   "id": "5d52cf97",
   "metadata": {},
   "source": [
    "3. Pie Chart"
   ]
  },
  {
   "cell_type": "code",
   "execution_count": 33,
   "id": "112d71c9",
   "metadata": {},
   "outputs": [
    {
     "data": {
      "image/png": "[encoded data removed]",
      "text/plain": [
       "<Figure size 432x288 with 1 Axes>"
      ]
     },
     "metadata": {},
     "output_type": "display_data"
    }
   ],
   "source": [
    "from matplotlib import pyplot as plt\n",
    "import numpy as np\n",
    "fig = plt.figure()\n",
    "ax = fig.add_axes([0,0,1,1])\n",
    "ax.axis('equal')\n",
    "langs = ['Python', 'CPP', 'Go', 'JS', 'SQL']\n",
    "students = [17,23,25,15,20]\n",
    "ax.pie(students, labels = langs,autopct='%1.2f%%')\n",
    "plt.show()"
   ]
  },
  {
   "cell_type": "markdown",
   "id": "30438fd5",
   "metadata": {},
   "source": [
    "4. Scatter Plot"
   ]
  },
  {
   "cell_type": "code",
   "execution_count": 35,
   "id": "6282e69a",
   "metadata": {},
   "outputs": [
    {
     "data": {
      "image/png": "[encoded data removed]",
      "text/plain": [
       "<Figure size 432x288 with 1 Axes>"
      ]
     },
     "metadata": {
      "needs_background": "light"
     },
     "output_type": "display_data"
    }
   ],
   "source": [
    "import matplotlib.pyplot as plt\n",
    "girls_grades = [89, 90, 70, 89]\n",
    "boys_grades = [30, 29, 49, 48]\n",
    "grades_range = [10, 20, 30, 40]\n",
    "fig=plt.figure()\n",
    "ax=fig.add_axes([0,0,1,1])\n",
    "ax.scatter(grades_range, girls_grades, color='g')\n",
    "ax.scatter(grades_range, boys_grades, color='r')\n",
    "ax.set_xlabel('Grades Range')\n",
    "ax.set_ylabel('Grades Scored')\n",
    "ax.set_title('scatter plot')\n",
    "plt.show()"
   ]
  },
  {
   "cell_type": "markdown",
   "id": "531ed8fa",
   "metadata": {},
   "source": [
    "5. Violin Plot"
   ]
  },
  {
   "cell_type": "code",
   "execution_count": 30,
   "id": "b52460a8",
   "metadata": {},
   "outputs": [
    {
     "data": {
      "image/png": "[encoded data removed]",
      "text/plain": [
       "<Figure size 432x288 with 1 Axes>"
      ]
     },
     "metadata": {
      "needs_background": "light"
     },
     "output_type": "display_data"
    }
   ],
   "source": [
    "import matplotlib.pyplot as plt\n",
    "\n",
    "np.random.seed(10)\n",
    "collectn_1 = np.random.normal(100, 10, 200)\n",
    "collectn_2 = np.random.normal(80, 30, 200)\n",
    "collectn_3 = np.random.normal(90, 20, 200)\n",
    "collectn_4 = np.random.normal(70, 25, 200)\n",
    "\n",
    "## combine these different collections into a list\n",
    "data_to_plot = [collectn_1, collectn_2, collectn_3, collectn_4]\n",
    "\n",
    "# Create a figure instance\n",
    "fig = plt.figure()\n",
    "\n",
    "# Create an axes instance\n",
    "ax = fig.add_axes([0,0,1,1])\n",
    "\n",
    "# Create the boxplot\n",
    "bp = ax.violinplot(data_to_plot)\n",
    "plt.show()"
   ]
  },
  {
   "cell_type": "code",
   "execution_count": null,
   "id": "ed0effd8",
   "metadata": {},
   "outputs": [],
   "source": []
  }
 ],
 "metadata": {
  "kernelspec": {
   "display_name": "Python 3",
   "language": "python",
   "name": "python3"
  },
  "language_info": {
   "codemirror_mode": {
    "name": "ipython",
    "version": 3
   },
   "file_extension": ".py",
   "mimetype": "text/x-python",
   "name": "python",
   "nbconvert_exporter": "python",
   "pygments_lexer": "ipython3",
   "version": "3.8.8"
  }
 },
 "nbformat": 4,
 "nbformat_minor": 5
}
