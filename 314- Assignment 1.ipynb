{
 "cells": [
  {
   "cell_type": "markdown",
   "id": "b8e1ddc5",
   "metadata": {},
   "source": [
    "## Amit Anand\n",
    "## Batch - B4\n",
    "## Roll no. 314"
   ]
  },
  {
   "cell_type": "code",
   "execution_count": 1,
   "id": "5d738236",
   "metadata": {},
   "outputs": [],
   "source": [
    "import numpy as np\n"
   ]
  },
  {
   "cell_type": "markdown",
   "id": "5f927df3",
   "metadata": {},
   "source": [
    "### Questions on Numpy"
   ]
  },
  {
   "cell_type": "markdown",
   "id": "5712e4b1",
   "metadata": {},
   "source": [
    "1. Combining a one and a two-dimensional NumPy Array"
   ]
  },
  {
   "cell_type": "code",
   "execution_count": 2,
   "id": "68658ab0",
   "metadata": {},
   "outputs": [
    {
     "name": "stdout",
     "output_type": "stream",
     "text": [
      "One dimensional array:\n",
      "[0 1 2 3 4]\n",
      "\n",
      "Two dimensional array:\n",
      "[[0 1 2 3 4]\n",
      " [5 6 7 8 9]]\n",
      "0:0\n",
      "1:1\n",
      "2:2\n",
      "3:3\n",
      "4:4\n",
      "0:5\n",
      "1:6\n",
      "2:7\n",
      "3:8\n",
      "4:9\n"
     ]
    }
   ],
   "source": [
    "# importing Numpy package\n",
    "import numpy as np\n",
    "\n",
    "num_1d = np.arange(5)\n",
    "print(\"One dimensional array:\")\n",
    "print(num_1d)\n",
    "\n",
    "num_2d = np.arange(10).reshape(2,5)\n",
    "print(\"\\nTwo dimensional array:\")\n",
    "print(num_2d)\n",
    "\n",
    "# Combine 1-D and 2-D arrays and display\n",
    "# their elements using numpy.nditer()\n",
    "for a, b in np.nditer([num_1d, num_2d]):\n",
    "\tprint(\"%d:%d\" % (a, b),)\n"
   ]
  },
  {
   "cell_type": "markdown",
   "id": "f772eaf3",
   "metadata": {},
   "source": [
    "2.Python | Numpy matrix.sum()"
   ]
  },
  {
   "cell_type": "code",
   "execution_count": 3,
   "id": "ac2cd58d",
   "metadata": {},
   "outputs": [
    {
     "name": "stdout",
     "output_type": "stream",
     "text": [
      "20\n"
     ]
    }
   ],
   "source": [
    "# import the important module in python\n",
    "import numpy as np\n",
    "\t\t\t\n",
    "# make matrix with numpy\n",
    "gfg = np.matrix('[4, 1; 12, 3]')\n",
    "\t\t\t\n",
    "# applying matrix.sum() method\n",
    "geek = gfg.sum()\n",
    "\n",
    "print(geek)\n"
   ]
  },
  {
   "cell_type": "markdown",
   "id": "d1c830f1",
   "metadata": {},
   "source": [
    "3. Replace NumPy array elements that doesn’t satisfy the given condition"
   ]
  },
  {
   "cell_type": "code",
   "execution_count": 4,
   "id": "a81746be",
   "metadata": {},
   "outputs": [
    {
     "name": "stdout",
     "output_type": "stream",
     "text": [
      "Given array:\n",
      "[75.42436315 42.48558583 60.32924763]\n",
      "\n",
      "Replace all elements of array which are greater than 50. to 15.50\n",
      "New array :\n",
      "\n",
      "[15.5        42.48558583 15.5       ]\n"
     ]
    }
   ],
   "source": [
    "# Importing Numpy module\n",
    "import numpy as np\n",
    "\n",
    "# Creating a 1-D Numpy array\n",
    "n_arr = np.array([75.42436315, 42.48558583, 60.32924763])\n",
    "print(\"Given array:\")\n",
    "print(n_arr)\n",
    "\n",
    "print(\"\\nReplace all elements of array which are greater than 50. to 15.50\")\n",
    "n_arr[n_arr > 50.] = 15.50\n",
    "\n",
    "print(\"New array :\\n\")\n",
    "print(n_arr)\n"
   ]
  },
  {
   "cell_type": "markdown",
   "id": "52dd5fa6",
   "metadata": {},
   "source": [
    "4. Find a matrix or vector norm using NumPy"
   ]
  },
  {
   "cell_type": "code",
   "execution_count": 5,
   "id": "1d0bf38d",
   "metadata": {},
   "outputs": [
    {
     "name": "stdout",
     "output_type": "stream",
     "text": [
      "Vector norm:\n",
      "16.881943016134134\n"
     ]
    }
   ],
   "source": [
    "# import library\n",
    "import numpy as np\n",
    "\n",
    "# initialize vector\n",
    "vec = np.arange(10)\n",
    "\n",
    "# compute norm of vector\n",
    "vec_norm = np.linalg.norm(vec)\n",
    "\n",
    "print(\"Vector norm:\")\n",
    "print(vec_norm)\n"
   ]
  },
  {
   "cell_type": "markdown",
   "id": "7ed58ed3",
   "metadata": {},
   "source": [
    "5. Finding the k smallest values of a NumPy array"
   ]
  },
  {
   "cell_type": "code",
   "execution_count": 6,
   "id": "1f5c94a2",
   "metadata": {},
   "outputs": [
    {
     "name": "stdout",
     "output_type": "stream",
     "text": [
      "The Original Array Content\n",
      "[23 12  1  3  4  5  6]\n",
      "4 smallest elements of the array\n",
      "[1 3 4 5]\n"
     ]
    }
   ],
   "source": [
    "# importing the modules\n",
    "import numpy as np\n",
    "\n",
    "# creating the array\n",
    "arr = np.array([23, 12, 1, 3, 4, 5, 6])\n",
    "print(\"The Original Array Content\")\n",
    "print(arr)\n",
    "\n",
    "# value of k\n",
    "k = 4\n",
    "\n",
    "# sorting the array\n",
    "arr1 = np.sort(arr)\n",
    "\n",
    "# k smallest number of array\n",
    "print(k, \"smallest elements of the array\")\n",
    "print(arr1[:k])\n"
   ]
  },
  {
   "cell_type": "markdown",
   "id": "1224d7ae",
   "metadata": {},
   "source": [
    "6. Python | Multiply 2d numpy array corresponding to 1d array"
   ]
  },
  {
   "cell_type": "code",
   "execution_count": 7,
   "id": "669a42d1",
   "metadata": {},
   "outputs": [
    {
     "name": "stdout",
     "output_type": "stream",
     "text": [
      "initial array [[1 2 3]\n",
      " [2 4 5]\n",
      " [1 2 3]]\n",
      "New resulting array:  [[ 0  0  0]\n",
      " [ 4  8 10]\n",
      " [ 3  6  9]]\n"
     ]
    }
   ],
   "source": [
    "# Python code to demonstrate\n",
    "# multiplication of 2d array\n",
    "# with 1d array\n",
    "\n",
    "import numpy as np\n",
    "\n",
    "ini_array1 = np.array([[1, 2, 3], [2, 4, 5], [1, 2, 3]])\n",
    "ini_array2 = np.array([0, 2, 3])\n",
    "\n",
    "# printing initial arrays\n",
    "print(\"initial array\", str(ini_array1))\n",
    "\n",
    "# Multiplying arrays\n",
    "result = ini_array1 * ini_array2[:, np.newaxis]\n",
    "\n",
    "# printing result\n",
    "print(\"New resulting array: \", result)\n"
   ]
  },
  {
   "cell_type": "markdown",
   "id": "4957d015",
   "metadata": {},
   "source": [
    "7. Compute the median of the flattened NumPy array"
   ]
  },
  {
   "cell_type": "code",
   "execution_count": 8,
   "id": "82bb8a4c",
   "metadata": {},
   "outputs": [
    {
     "name": "stdout",
     "output_type": "stream",
     "text": [
      "\n",
      "Printing the Original array:\n",
      "[1 2 3 4 5 6 7]\n",
      "\n",
      "Median of the array that contains odd no of elements:\n",
      "4.0\n"
     ]
    }
   ],
   "source": [
    "# importing numpy as library\n",
    "import numpy as np\n",
    "\n",
    "\n",
    "# creating 1 D array with odd no of\n",
    "# elements\n",
    "x_odd = np.array([1, 2, 3, 4, 5, 6, 7])\n",
    "print(\"\\nPrinting the Original array:\")\n",
    "print(x_odd)\n",
    "\n",
    "# calculating median\n",
    "med_odd = np.median(x_odd)\n",
    "print(\"\\nMedian of the array that contains \\\n",
    "odd no of elements:\")\n",
    "print(med_odd)\n"
   ]
  },
  {
   "cell_type": "markdown",
   "id": "5fa11f79",
   "metadata": {},
   "source": [
    "8. How to subtract one polynomial to another using NumPy in Python?"
   ]
  },
  {
   "cell_type": "code",
   "execution_count": 9,
   "id": "cdc065d8",
   "metadata": {},
   "outputs": [
    {
     "name": "stdout",
     "output_type": "stream",
     "text": [
      "[3. 3. 3.]\n"
     ]
    }
   ],
   "source": [
    "# importing package\n",
    "import numpy\n",
    "\n",
    "# define the polynomials\n",
    "# p(x) = 5(x**2) + (-2)x +5\n",
    "px = (5,-2,5)\n",
    "\n",
    "# q(x) = 2(x**2) + (-5)x +2\n",
    "qx = (2,-5,2)\n",
    "\n",
    "# subtract the polynomials\n",
    "rx = numpy.polynomial.polynomial.polysub(px,qx)\n",
    "\n",
    "# print the resultant polynomial\n",
    "print(rx)\n"
   ]
  },
  {
   "cell_type": "markdown",
   "id": "46619542",
   "metadata": {},
   "source": [
    "9. numpy string operations | swapcase() function"
   ]
  },
  {
   "cell_type": "code",
   "execution_count": 10,
   "id": "0b0185f9",
   "metadata": {},
   "outputs": [
    {
     "name": "stdout",
     "output_type": "stream",
     "text": [
      "input array :  ['P4Q R' '4q Rp' 'Q Rp4' 'rp4q']\n",
      "output swapcasecased array : ['p4q r' '4Q rP' 'q rP4' 'RP4Q']\n"
     ]
    }
   ],
   "source": [
    "# Python Program explaining\n",
    "# numpy.char.swapcase() function\n",
    "\n",
    "import numpy as geek\n",
    "\n",
    "\n",
    "in_arr = geek.array(['P4Q R', '4q Rp', 'Q Rp4', 'rp4q'])\n",
    "print (\"input array : \", in_arr)\n",
    "\n",
    "out_arr = geek.char.swapcase(in_arr)\n",
    "print (\"output swapcasecased array :\", out_arr)\n"
   ]
  },
  {
   "cell_type": "markdown",
   "id": "0e8505a4",
   "metadata": {},
   "source": [
    "10. Convert a NumPy array into a csv file"
   ]
  },
  {
   "cell_type": "code",
   "execution_count": 11,
   "id": "d876702f",
   "metadata": {},
   "outputs": [
    {
     "name": "stdout",
     "output_type": "stream",
     "text": [
      "[[ 1  2  3  4  5]\n",
      " [ 6  7  8  9 10]]\n"
     ]
    }
   ],
   "source": [
    "# import necessary libraries\n",
    "import pandas as pd\n",
    "import numpy as np\n",
    "\n",
    "# create a dummy array\n",
    "arr = np.arange(1,11).reshape(2,5)\n",
    "\n",
    "# display the array\n",
    "print(arr)\n",
    "\n",
    "# convert array into dataframe\n",
    "DF = pd.DataFrame(arr)\n",
    "\n",
    "# save the dataframe as a csv file\n",
    "DF.to_csv(\"data1.csv\")\n"
   ]
  },
  {
   "cell_type": "markdown",
   "id": "25653b49",
   "metadata": {},
   "source": [
    "11. numpy.var() in Python"
   ]
  },
  {
   "cell_type": "code",
   "execution_count": 12,
   "id": "700a0db1",
   "metadata": {},
   "outputs": [
    {
     "name": "stdout",
     "output_type": "stream",
     "text": [
      "arr :  [20, 2, 7, 1, 34]\n",
      "var of arr :  158.16\n",
      "\n",
      "var of arr :  158.16\n",
      "\n",
      "var of arr :  158.16\n"
     ]
    }
   ],
   "source": [
    "# Python Program illustrating\n",
    "# numpy.var() method\n",
    "import numpy as np\n",
    "\t\n",
    "# 1D array\n",
    "arr = [20, 2, 7, 1, 34]\n",
    "\n",
    "print(\"arr : \", arr)\n",
    "print(\"var of arr : \", np.var(arr))\n",
    "\n",
    "print(\"\\nvar of arr : \", np.var(arr, dtype = np.float32))\n",
    "print(\"\\nvar of arr : \", np.var(arr, dtype = np.float64))\n"
   ]
  },
  {
   "cell_type": "markdown",
   "id": "7a10485f",
   "metadata": {},
   "source": [
    "### Questions on Pandas"
   ]
  },
  {
   "cell_type": "markdown",
   "id": "5bdbe748",
   "metadata": {},
   "source": [
    "1. Make a Pandas DataFrame with two-dimensional list | Python"
   ]
  },
  {
   "cell_type": "code",
   "execution_count": 14,
   "id": "0a2315c2",
   "metadata": {},
   "outputs": [
    {
     "name": "stdout",
     "output_type": "stream",
     "text": [
      "             Tag  number\n",
      "0           Geek      25\n",
      "1             is      30\n",
      "2            for      26\n",
      "3  Geeksforgeeks      22\n"
     ]
    }
   ],
   "source": [
    "# import pandas as pd\n",
    "import pandas as pd\n",
    "\t\n",
    "# List1\n",
    "lst = [['Geek', 25], ['is', 30],\n",
    "\t['for', 26], ['Geeksforgeeks', 22]]\n",
    "\n",
    "# creating df object with columns specified\t\n",
    "df = pd.DataFrame(lst, columns =['Tag', 'number'])\n",
    "print(df )\n"
   ]
  },
  {
   "cell_type": "markdown",
   "id": "f9eee390",
   "metadata": {},
   "source": [
    "2. Replace values in Pandas dataframe using regex"
   ]
  },
  {
   "cell_type": "code",
   "execution_count": 15,
   "id": "f29f9077",
   "metadata": {},
   "outputs": [
    {
     "name": "stdout",
     "output_type": "stream",
     "text": [
      "                City        Event   Cost\n",
      "2018-02     New York        Music  10000\n",
      "2018-04      Parague       Poetry   5000\n",
      "2018-06    New Delhi      Theatre  15000\n",
      "2018-10       Venice       Comedy   2000\n",
      "2018-12  new Orleans  Tech_Summit  12000\n"
     ]
    }
   ],
   "source": [
    "# importing pandas as pd\n",
    "import pandas as pd\n",
    "\n",
    "# Let's create a Dataframe\n",
    "df = pd.DataFrame({'City':['New York', 'Parague', 'New Delhi', 'Venice', 'new Orleans'],\n",
    "\t\t\t\t\t'Event':['Music', 'Poetry', 'Theatre', 'Comedy', 'Tech_Summit'],\n",
    "\t\t\t\t\t'Cost':[10000, 5000, 15000, 2000, 12000]})\n",
    "\n",
    "# Let's create the index\n",
    "index_ = [pd.Period('02-2018'), pd.Period('04-2018'),\n",
    "\t\tpd.Period('06-2018'), pd.Period('10-2018'), pd.Period('12-2018')]\n",
    "\n",
    "# Set the index\n",
    "df.index = index_\n",
    "\n",
    "# Let's print the dataframe\n",
    "print(df)\n"
   ]
  },
  {
   "cell_type": "markdown",
   "id": "dada2130",
   "metadata": {},
   "source": [
    "3. How to iterate over rows in Pandas Dataframe"
   ]
  },
  {
   "cell_type": "code",
   "execution_count": 16,
   "id": "efea1cea",
   "metadata": {},
   "outputs": [
    {
     "name": "stdout",
     "output_type": "stream",
     "text": [
      "Original DataFrame: \n",
      "      name  age\n",
      "0  Sujeet   10\n",
      "1  Sameer   11\n",
      "2   Sumit   12\n",
      "\n",
      "Rows iterated using iterrows() : \n",
      "Sujeet 10\n",
      "Sameer 11\n",
      "Sumit 12\n"
     ]
    }
   ],
   "source": [
    "# importing pandas\n",
    "import pandas as pd\n",
    "\n",
    "# list of dicts\n",
    "input_df = [{'name':'Sujeet', 'age':10},\n",
    "\t\t\t{'name':'Sameer', 'age':11},\n",
    "\t\t\t{'name':'Sumit', 'age':12}]\n",
    "\n",
    "df = pd.DataFrame(input_df)\n",
    "print('Original DataFrame: \\n', df)\n",
    "\n",
    "\n",
    "print('\\nRows iterated using iterrows() : ')\n",
    "for index, row in df.iterrows():\n",
    "\tprint(row['name'], row['age'])\n"
   ]
  },
  {
   "cell_type": "markdown",
   "id": "40dedd27",
   "metadata": {},
   "source": [
    "4. Create a pandas column using for loop"
   ]
  },
  {
   "cell_type": "code",
   "execution_count": 17,
   "id": "b86a8c34",
   "metadata": {},
   "outputs": [
    {
     "name": "stdout",
     "output_type": "stream",
     "text": [
      "  Voter_name  Voter_age     Voter\n",
      "0      Geek1       15.0        No\n",
      "1      Geek2       23.0       Yes\n",
      "2      Geek3       25.0       Yes\n",
      "3      Geek4        9.0        No\n",
      "4      Geek5       67.0       Yes\n",
      "5      Geek6       54.0       Yes\n",
      "6      Geek7       42.0       Yes\n",
      "7      Geek8        NaN  Not Sure\n"
     ]
    }
   ],
   "source": [
    "# importing libraries\n",
    "import pandas as pd\n",
    "import numpy as np\n",
    "\n",
    "raw_Data = {'Voter_name': ['Geek1', 'Geek2', 'Geek3', 'Geek4',\n",
    "\t\t\t\t\t\t'Geek5', 'Geek6', 'Geek7', 'Geek8'],\n",
    "\t\t\t'Voter_age': [15, 23, 25, 9, 67, 54, 42, np.NaN]}\n",
    "\n",
    "df = pd.DataFrame(raw_Data, columns = ['Voter_name', 'Voter_age'])\n",
    "#\t //DataFrame will look like\n",
    "#\n",
    "# Voter_name\t\t Voter_age\n",
    "# Geek1\t\t\t 15\n",
    "# Geek2\t\t\t 23\n",
    "# Geek3\t\t\t 25\n",
    "# Geek4\t\t\t 09\n",
    "# Geek5\t\t\t 67\n",
    "# Geek6\t\t\t 54\n",
    "# Geek7\t\t\t 42\n",
    "# Geek8\t\t not a number\n",
    "\n",
    "eligible = []\n",
    "\n",
    "# For each row in the column\n",
    "for age in df['Voter_age']:\t\n",
    "\tif age >= 18:\t\t\t\t # if Voter eligible\n",
    "\t\teligible.append('Yes')\n",
    "\telif age < 18:\t\t\t\t # if voter is not eligible\n",
    "\t\teligible.append(\"No\")\n",
    "\telse:\n",
    "\t\teligible.append(\"Not Sure\")\n",
    "\n",
    "# Create a column from the list\n",
    "df['Voter'] = eligible\n",
    "\t\t\t\n",
    "print(df)\n"
   ]
  },
  {
   "cell_type": "markdown",
   "id": "f771cfcc",
   "metadata": {},
   "source": [
    "5. Using dictionary to remap values in Pandas DataFrame columns"
   ]
  },
  {
   "cell_type": "code",
   "execution_count": 18,
   "id": "2e1d0ab3",
   "metadata": {},
   "outputs": [
    {
     "name": "stdout",
     "output_type": "stream",
     "text": [
      "        Date    Event   Cost\n",
      "0  10/2/2011    Music  10000\n",
      "1  11/2/2011   Poetry   5000\n",
      "2  12/2/2011  Theatre  15000\n",
      "3  13/2/2011   Comedy   2000\n"
     ]
    }
   ],
   "source": [
    "# importing pandas as pd\n",
    "import pandas as pd\n",
    "\n",
    "# Creating the DataFrame\n",
    "df = pd.DataFrame({'Date':['10/2/2011', '11/2/2011', '12/2/2011', '13/2/2011'],\n",
    "\t\t\t\t\t'Event':['Music', 'Poetry', 'Theatre', 'Comedy'],\n",
    "\t\t\t\t\t'Cost':[10000, 5000, 15000, 2000]})\n",
    "\n",
    "# Print the dataframe\n",
    "print(df)\n"
   ]
  },
  {
   "cell_type": "markdown",
   "id": "8f18623a",
   "metadata": {},
   "source": [
    "6. Python | Creating a Pandas dataframe column based on a given condition"
   ]
  },
  {
   "cell_type": "code",
   "execution_count": 19,
   "id": "22c237d1",
   "metadata": {},
   "outputs": [
    {
     "name": "stdout",
     "output_type": "stream",
     "text": [
      "         Date   Event\n",
      "0   11/8/2011   Music\n",
      "1   11/9/2011  Poetry\n",
      "2  11/10/2011   Music\n",
      "3  11/11/2011   Music\n",
      "4  11/12/2011  Poetry\n"
     ]
    }
   ],
   "source": [
    "# importing pandas as pd\n",
    "import pandas as pd\n",
    "\n",
    "# Creating the dataframe\n",
    "df = pd.DataFrame({'Date' : ['11/8/2011', '11/9/2011', '11/10/2011',\n",
    "\t\t\t\t\t\t\t\t\t\t'11/11/2011', '11/12/2011'],\n",
    "\t\t\t\t'Event' : ['Music', 'Poetry', 'Music', 'Music', 'Poetry']})\n",
    "\n",
    "# Print the dataframe\n",
    "print(df)\n"
   ]
  },
  {
   "cell_type": "markdown",
   "id": "6ece5b58",
   "metadata": {},
   "source": [
    "7. Selecting rows in pandas DataFrame based on conditions"
   ]
  },
  {
   "cell_type": "code",
   "execution_count": 20,
   "id": "28f665be",
   "metadata": {},
   "outputs": [
    {
     "name": "stdout",
     "output_type": "stream",
     "text": [
      "Given Dataframe :\n",
      "         Name  Age    Stream  Percentage\n",
      "0      Ankit   21      Math          88\n",
      "1       Amit   19  Commerce          92\n",
      "2  Aishwarya   20   Science          95\n",
      "3   Priyanka   18      Math          70\n",
      "4      Priya   17      Math          65\n",
      "5    Shaurya   21   Science          78\n",
      "\n",
      "Result dataframe :\n",
      "         Name  Age    Stream  Percentage\n",
      "0      Ankit   21      Math          88\n",
      "1       Amit   19  Commerce          92\n",
      "2  Aishwarya   20   Science          95\n"
     ]
    }
   ],
   "source": [
    "# importing pandas\n",
    "import pandas as pd\n",
    "\n",
    "record = {\n",
    "\n",
    "'Name': ['Ankit', 'Amit', 'Aishwarya', 'Priyanka', 'Priya', 'Shaurya' ],\n",
    "'Age': [21, 19, 20, 18, 17, 21],\n",
    "'Stream': ['Math', 'Commerce', 'Science', 'Math', 'Math', 'Science'],\n",
    "'Percentage': [88, 92, 95, 70, 65, 78] }\n",
    "\n",
    "# create a dataframe\n",
    "dataframe = pd.DataFrame(record, columns = ['Name', 'Age', 'Stream', 'Percentage'])\n",
    "\n",
    "print(\"Given Dataframe :\\n\", dataframe)\n",
    "\n",
    "# selecting rows based on condition\n",
    "rslt_df = dataframe[dataframe['Percentage'] > 80]\n",
    "\n",
    "print('\\nResult dataframe :\\n', rslt_df)\n"
   ]
  },
  {
   "cell_type": "markdown",
   "id": "c7651222",
   "metadata": {},
   "source": [
    "8. Create a Pandas Series from array"
   ]
  },
  {
   "cell_type": "code",
   "execution_count": 21,
   "id": "d749dfe2",
   "metadata": {},
   "outputs": [
    {
     "name": "stdout",
     "output_type": "stream",
     "text": [
      "0    a\n",
      "1    b\n",
      "2    c\n",
      "3    d\n",
      "4    e\n",
      "dtype: object\n"
     ]
    }
   ],
   "source": [
    "# importing Pandas & numpy\n",
    "import pandas as pd\n",
    "import numpy as np\n",
    "\n",
    "# numpy array\n",
    "data = np.array(['a', 'b', 'c', 'd', 'e'])\n",
    "\n",
    "# creating series\n",
    "s = pd.Series(data)\n",
    "print(s)\n"
   ]
  },
  {
   "cell_type": "markdown",
   "id": "6455b172",
   "metadata": {},
   "source": [
    "9. Create a Pandas DataFrame from List of Dicts "
   ]
  },
  {
   "cell_type": "code",
   "execution_count": 25,
   "id": "05bc69e9",
   "metadata": {},
   "outputs": [
    {
     "data": {
      "text/html": [
       "<div>\n",
       "<style scoped>\n",
       "    .dataframe tbody tr th:only-of-type {\n",
       "        vertical-align: middle;\n",
       "    }\n",
       "\n",
       "    .dataframe tbody tr th {\n",
       "        vertical-align: top;\n",
       "    }\n",
       "\n",
       "    .dataframe thead th {\n",
       "        text-align: right;\n",
       "    }\n",
       "</style>\n",
       "<table border=\"1\" class=\"dataframe\">\n",
       "  <thead>\n",
       "    <tr style=\"text-align: right;\">\n",
       "      <th></th>\n",
       "      <th>Geeks</th>\n",
       "      <th>For</th>\n",
       "      <th>geeks</th>\n",
       "    </tr>\n",
       "  </thead>\n",
       "  <tbody>\n",
       "    <tr>\n",
       "      <th>0</th>\n",
       "      <td>dataframe</td>\n",
       "      <td>using</td>\n",
       "      <td>list</td>\n",
       "    </tr>\n",
       "    <tr>\n",
       "      <th>1</th>\n",
       "      <td>10</td>\n",
       "      <td>20</td>\n",
       "      <td>30</td>\n",
       "    </tr>\n",
       "  </tbody>\n",
       "</table>\n",
       "</div>"
      ],
      "text/plain": [
       "       Geeks    For geeks\n",
       "0  dataframe  using  list\n",
       "1         10     20    30"
      ]
     },
     "execution_count": 25,
     "metadata": {},
     "output_type": "execute_result"
    }
   ],
   "source": [
    "# Python code demonstrate how to create\n",
    "# Pandas DataFrame by lists of dicts.\n",
    "import pandas as pd\n",
    "\t\n",
    "# Initialise data to lists.\n",
    "data = [{'Geeks': 'dataframe', 'For': 'using', 'geeks': 'list'},\n",
    "\t\t{'Geeks':10, 'For': 20, 'geeks': 30}]\n",
    "\t\n",
    "# Creates DataFrame.\n",
    "df = pd.DataFrame(data)\n",
    "\t\n",
    "# Print the data\n",
    "df\n"
   ]
  },
  {
   "cell_type": "markdown",
   "id": "58876684",
   "metadata": {},
   "source": [
    "10. Pandas | Basic of Time Series Manipulation"
   ]
  },
  {
   "cell_type": "code",
   "execution_count": 23,
   "id": "4b00f878",
   "metadata": {},
   "outputs": [
    {
     "name": "stdout",
     "output_type": "stream",
     "text": [
      "DatetimeIndex(['2019-01-01 00:00:00', '2019-01-01 00:01:00',\n",
      "               '2019-01-01 00:02:00', '2019-01-01 00:03:00',\n",
      "               '2019-01-01 00:04:00', '2019-01-01 00:05:00',\n",
      "               '2019-01-01 00:06:00', '2019-01-01 00:07:00',\n",
      "               '2019-01-01 00:08:00', '2019-01-01 00:09:00',\n",
      "               ...\n",
      "               '2019-01-07 23:51:00', '2019-01-07 23:52:00',\n",
      "               '2019-01-07 23:53:00', '2019-01-07 23:54:00',\n",
      "               '2019-01-07 23:55:00', '2019-01-07 23:56:00',\n",
      "               '2019-01-07 23:57:00', '2019-01-07 23:58:00',\n",
      "               '2019-01-07 23:59:00', '2019-01-08 00:00:00'],\n",
      "              dtype='datetime64[ns]', length=10081, freq='T')\n"
     ]
    }
   ],
   "source": [
    "import pandas as pd\n",
    "from datetime import datetime\n",
    "import numpy as np\n",
    "\n",
    "range_date = pd.date_range(start ='1/1/2019', end ='1/08/2019',\n",
    "\t\t\t\t\t\t\t\t\t\t\t\tfreq ='Min')\n",
    "print(range_date)\n"
   ]
  },
  {
   "cell_type": "markdown",
   "id": "f6a7817f",
   "metadata": {},
   "source": [
    "### Graphs on Matploitlab"
   ]
  },
  {
   "cell_type": "markdown",
   "id": "ebfc5e0a",
   "metadata": {},
   "source": [
    "1. Bar Plot"
   ]
  },
  {
   "cell_type": "code",
   "execution_count": 26,
   "id": "bc8c3ba1",
   "metadata": {},
   "outputs": [
    {
     "data": {
      "text/plain": [
       "<BarContainer object of 4 artists>"
      ]
     },
     "execution_count": 26,
     "metadata": {},
     "output_type": "execute_result"
    },
    {
     "data": {
      "image/png": "[encoded data removed]",
      "text/plain": [
       "<Figure size 432x288 with 1 Axes>"
      ]
     },
     "metadata": {
      "needs_background": "light"
     },
     "output_type": "display_data"
    }
   ],
   "source": [
    "import numpy as np\n",
    "import matplotlib.pyplot as plt\n",
    "data = [[30, 25, 50, 20],\n",
    "[40, 23, 51, 17],\n",
    "[35, 22, 45, 19]]\n",
    "X = np.arange(4)\n",
    "fig = plt.figure()\n",
    "ax = fig.add_axes([0,0,1,1])\n",
    "ax.bar(X + 0.00, data[0], color = 'b', width = 0.25)\n",
    "ax.bar(X + 0.25, data[1], color = 'g', width = 0.25)\n",
    "ax.bar(X + 0.50, data[2], color = 'r', width = 0.25)"
   ]
  },
  {
   "cell_type": "markdown",
   "id": "5142039f",
   "metadata": {},
   "source": [
    "2. Histogram Plot"
   ]
  },
  {
   "cell_type": "code",
   "execution_count": 27,
   "id": "5b6c7c5a",
   "metadata": {},
   "outputs": [
    {
     "data": {
      "image/png": "[encoded data removed]",
      "text/plain": [
       "<Figure size 432x288 with 1 Axes>"
      ]
     },
     "metadata": {
      "needs_background": "light"
     },
     "output_type": "display_data"
    }
   ],
   "source": [
    "from matplotlib import pyplot as plt\n",
    "import numpy as np\n",
    "fig,ax = plt.subplots(1,1)\n",
    "a = np.array([22,87,5,43,56,73,55,54,11,20,51,5,79,31,27])\n",
    "ax.hist(a, bins = [0,25,50,75,100])\n",
    "ax.set_title(\"histogram of result\")\n",
    "ax.set_xticks([0,25,50,75,100])\n",
    "ax.set_xlabel('marks')\n",
    "ax.set_ylabel('no. of students')\n",
    "plt.show()"
   ]
  },
  {
   "cell_type": "markdown",
   "id": "5d52cf97",
   "metadata": {},
   "source": [
    "3. Pie Chart"
   ]
  },
  {
   "cell_type": "code",
   "execution_count": 28,
   "id": "112d71c9",
   "metadata": {},
   "outputs": [
    {
     "data": {
      "image/png": "[encoded data removed]",
      "text/plain": [
       "<Figure size 432x288 with 1 Axes>"
      ]
     },
     "metadata": {},
     "output_type": "display_data"
    }
   ],
   "source": [
    "from matplotlib import pyplot as plt\n",
    "import numpy as np\n",
    "fig = plt.figure()\n",
    "ax = fig.add_axes([0,0,1,1])\n",
    "ax.axis('equal')\n",
    "langs = ['C', 'C++', 'Java', 'Python', 'PHP']\n",
    "students = [23,17,35,29,12]\n",
    "ax.pie(students, labels = langs,autopct='%1.2f%%')\n",
    "plt.show()"
   ]
  },
  {
   "cell_type": "markdown",
   "id": "30438fd5",
   "metadata": {},
   "source": [
    "4. Scatter Plot"
   ]
  },
  {
   "cell_type": "code",
   "execution_count": 29,
   "id": "6282e69a",
   "metadata": {},
   "outputs": [
    {
     "data": {
      "image/png": "[encoded data removed]",
      "text/plain": [
       "<Figure size 432x288 with 1 Axes>"
      ]
     },
     "metadata": {
      "needs_background": "light"
     },
     "output_type": "display_data"
    }
   ],
   "source": [
    "import matplotlib.pyplot as plt\n",
    "girls_grades = [89, 90, 70, 89, 100, 80, 90, 100, 80, 34]\n",
    "boys_grades = [30, 29, 49, 48, 100, 48, 38, 45, 20, 30]\n",
    "grades_range = [10, 20, 30, 40, 50, 60, 70, 80, 90, 100]\n",
    "fig=plt.figure()\n",
    "ax=fig.add_axes([0,0,1,1])\n",
    "ax.scatter(grades_range, girls_grades, color='r')\n",
    "ax.scatter(grades_range, boys_grades, color='b')\n",
    "ax.set_xlabel('Grades Range')\n",
    "ax.set_ylabel('Grades Scored')\n",
    "ax.set_title('scatter plot')\n",
    "plt.show()"
   ]
  },
  {
   "cell_type": "markdown",
   "id": "531ed8fa",
   "metadata": {},
   "source": [
    "5. Violin Plot"
   ]
  },
  {
   "cell_type": "code",
   "execution_count": 30,
   "id": "b52460a8",
   "metadata": {},
   "outputs": [
    {
     "data": {
      "image/png": "[encoded data removed]",
      "text/plain": [
       "<Figure size 432x288 with 1 Axes>"
      ]
     },
     "metadata": {
      "needs_background": "light"
     },
     "output_type": "display_data"
    }
   ],
   "source": [
    "import matplotlib.pyplot as plt\n",
    "\n",
    "np.random.seed(10)\n",
    "collectn_1 = np.random.normal(100, 10, 200)\n",
    "collectn_2 = np.random.normal(80, 30, 200)\n",
    "collectn_3 = np.random.normal(90, 20, 200)\n",
    "collectn_4 = np.random.normal(70, 25, 200)\n",
    "\n",
    "## combine these different collections into a list\n",
    "data_to_plot = [collectn_1, collectn_2, collectn_3, collectn_4]\n",
    "\n",
    "# Create a figure instance\n",
    "fig = plt.figure()\n",
    "\n",
    "# Create an axes instance\n",
    "ax = fig.add_axes([0,0,1,1])\n",
    "\n",
    "# Create the boxplot\n",
    "bp = ax.violinplot(data_to_plot)\n",
    "plt.show()"
   ]
  },
  {
   "cell_type": "code",
   "execution_count": null,
   "id": "ed0effd8",
   "metadata": {},
   "outputs": [],
   "source": []
  }
 ],
 "metadata": {
  "kernelspec": {
   "display_name": "Python 3",
   "language": "python",
   "name": "python3"
  },
  "language_info": {
   "codemirror_mode": {
    "name": "ipython",
    "version": 3
   },
   "file_extension": ".py",
   "mimetype": "text/x-python",
   "name": "python",
   "nbconvert_exporter": "python",
   "pygments_lexer": "ipython3",
   "version": "3.8.8"
  }
 },
 "nbformat": 4,
 "nbformat_minor": 5
}
